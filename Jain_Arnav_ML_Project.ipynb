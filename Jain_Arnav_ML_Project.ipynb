{
  "nbformat": 4,
  "nbformat_minor": 0,
  "metadata": {
    "colab": {
      "provenance": [],
      "machine_shape": "hm",
      "gpuType": "V100"
    },
    "kernelspec": {
      "name": "python3",
      "display_name": "Python 3"
    },
    "language_info": {
      "name": "python"
    },
    "accelerator": "GPU"
  },
  "cells": [
    {
      "cell_type": "code",
      "execution_count": 1,
      "metadata": {
        "id": "WHAeQfbMRvfy"
      },
      "outputs": [],
      "source": [
        "import numpy as np\n",
        "import pandas as pd\n",
        "import matplotlib.pyplot as plt\n",
        "import seaborn as sns\n",
        "import tensorflow as tf\n",
        "from tensorflow import keras"
      ]
    },
    {
      "cell_type": "code",
      "source": [
        "train_data = pd.read_csv(\"/content/drive/MyDrive/Project/yelp_review_train.csv\")\n",
        "test_data = pd.read_csv(\"/content/drive/MyDrive/Project/yelp_review_test.csv\")\n",
        "\n",
        "train_data.head(), test_data.head()"
      ],
      "metadata": {
        "colab": {
          "base_uri": "https://localhost:8080/"
        },
        "id": "Lz3BUAwgSaYj",
        "outputId": "fcbb177b-452a-452d-aefe-8d42b9f2a5f8"
      },
      "execution_count": 2,
      "outputs": [
        {
          "output_type": "execute_result",
          "data": {
            "text/plain": [
              "(                                                text  stars\n",
              " 0  Went for lunch and found that my burger was me...    2.0\n",
              " 1  I needed a new tires for my wife's car. They h...    5.0\n",
              " 2  Jim Woltman who works at Goleta Honda is 5 sta...    5.0\n",
              " 3  Been here a few times to get some shrimp.  The...    4.0\n",
              " 4  This is one fantastic place to eat whether you...    5.0,\n",
              "                                                 text  stars\n",
              " 0  Hidden treasure! Awesome service, delicious fo...    5.0\n",
              " 1  My family and I have been patients since I  wa...    5.0\n",
              " 2  I rarely get pedicures, but Blue Nail's practi...    5.0\n",
              " 3  We came with a large group, may of the items w...    2.0\n",
              " 4  The view is great from Morgan's Pier. The bart...    2.0)"
            ]
          },
          "metadata": {},
          "execution_count": 2
        }
      ]
    },
    {
      "cell_type": "code",
      "source": [
        "import re\n",
        "import nltk\n",
        "from nltk.corpus import stopwords\n",
        "nltk.download('stopwords')\n",
        "\n",
        "# Function to clean and preprocess the text\n",
        "def preprocess_text(text):\n",
        "    # Remove punctuation\n",
        "    text = re.sub(r'[^\\w\\s]', '', text)\n",
        "\n",
        "    # Convert text to lowercase\n",
        "    text = text.lower()\n",
        "\n",
        "    # Remove stopwords\n",
        "    stop_words = set(stopwords.words('english'))\n",
        "    text = ' '.join([word for word in text.split() if word not in stop_words])\n",
        "\n",
        "    return text\n",
        "\n",
        "# Apply the preprocessing function to the text column of both datasets\n",
        "train_data['text'] = train_data['text'].apply(preprocess_text)\n",
        "test_data['text'] = test_data['text'].apply(preprocess_text)\n",
        "\n",
        "# Function to convert stars to sentiment labels\n",
        "def convert_stars_to_sentiment(stars):\n",
        "    if stars > 3:\n",
        "        return 'Positive'\n",
        "    elif stars == 3:\n",
        "        return 'Neutral'\n",
        "    else:\n",
        "        return 'Negative'\n",
        "\n",
        "# Apply the conversion function to the stars column of both datasets\n",
        "train_data['sentiment'] = train_data['stars'].apply(convert_stars_to_sentiment)\n",
        "test_data['sentiment'] = test_data['stars'].apply(convert_stars_to_sentiment)\n",
        "\n",
        "# Drop the original stars column\n",
        "train_data.drop('stars', axis=1, inplace=True)\n",
        "test_data.drop('stars', axis=1, inplace=True)\n",
        "\n",
        "# Display the first few rows of the processed training data\n",
        "train_data.head(), test_data.head()\n"
      ],
      "metadata": {
        "colab": {
          "base_uri": "https://localhost:8080/"
        },
        "id": "O4cxoOKeSfbP",
        "outputId": "de30c812-1558-46f2-b0cf-233497bea019"
      },
      "execution_count": 3,
      "outputs": [
        {
          "output_type": "stream",
          "name": "stderr",
          "text": [
            "[nltk_data] Downloading package stopwords to /root/nltk_data...\n",
            "[nltk_data]   Unzipping corpora/stopwords.zip.\n"
          ]
        },
        {
          "output_type": "execute_result",
          "data": {
            "text/plain": [
              "(                                                text sentiment\n",
              " 0  went lunch found burger meh obvious focus burg...  Negative\n",
              " 1  needed new tires wifes car special order next ...  Positive\n",
              " 2  jim woltman works goleta honda 5 stars knowled...  Positive\n",
              " 3  times get shrimp theyve got nice selection dif...  Positive\n",
              " 4  one fantastic place eat whether hungry need go...  Positive,\n",
              "                                                 text sentiment\n",
              " 0  hidden treasure awesome service delicious food...  Positive\n",
              " 1  family patients since 5 years old 34 trust qua...  Positive\n",
              " 2  rarely get pedicures blue nails practice combi...  Positive\n",
              " 3  came large group may items missing menu lobste...  Negative\n",
              " 4  view great morgans pier bartenders even good s...  Negative)"
            ]
          },
          "metadata": {},
          "execution_count": 3
        }
      ]
    },
    {
      "cell_type": "code",
      "source": [
        "# Define the mapping\n",
        "label_mapping = {'Negative': 0, 'Neutral': 1, 'Positive': 2}\n",
        "\n",
        "# Apply the mapping to the sentiment columns\n",
        "train_data['sentiment'] = train_data['sentiment'].map(label_mapping)\n",
        "test_data['sentiment'] = test_data['sentiment'].map(label_mapping)\n",
        "\n",
        "# Check for any unmapped or NaN values in the sentiment column\n",
        "print(\"Unmapped values in training data:\", train_data[train_data['sentiment'].isna()])\n",
        "print(\"Unmapped values in test data:\", test_data[test_data['sentiment'].isna()])\n",
        "\n",
        "train_data.head()\n",
        "\n"
      ],
      "metadata": {
        "colab": {
          "base_uri": "https://localhost:8080/",
          "height": 310
        },
        "id": "ARIY2tGpS2RK",
        "outputId": "a1a476ff-2413-4de2-951f-d1f2b625ae0c"
      },
      "execution_count": 4,
      "outputs": [
        {
          "output_type": "stream",
          "name": "stdout",
          "text": [
            "Unmapped values in training data: Empty DataFrame\n",
            "Columns: [text, sentiment]\n",
            "Index: []\n",
            "Unmapped values in test data: Empty DataFrame\n",
            "Columns: [text, sentiment]\n",
            "Index: []\n"
          ]
        },
        {
          "output_type": "execute_result",
          "data": {
            "text/plain": [
              "                                                text  sentiment\n",
              "0  went lunch found burger meh obvious focus burg...          0\n",
              "1  needed new tires wifes car special order next ...          2\n",
              "2  jim woltman works goleta honda 5 stars knowled...          2\n",
              "3  times get shrimp theyve got nice selection dif...          2\n",
              "4  one fantastic place eat whether hungry need go...          2"
            ],
            "text/html": [
              "\n",
              "  <div id=\"df-e32745d9-d91b-470d-bd15-ab00eaef6d7c\" class=\"colab-df-container\">\n",
              "    <div>\n",
              "<style scoped>\n",
              "    .dataframe tbody tr th:only-of-type {\n",
              "        vertical-align: middle;\n",
              "    }\n",
              "\n",
              "    .dataframe tbody tr th {\n",
              "        vertical-align: top;\n",
              "    }\n",
              "\n",
              "    .dataframe thead th {\n",
              "        text-align: right;\n",
              "    }\n",
              "</style>\n",
              "<table border=\"1\" class=\"dataframe\">\n",
              "  <thead>\n",
              "    <tr style=\"text-align: right;\">\n",
              "      <th></th>\n",
              "      <th>text</th>\n",
              "      <th>sentiment</th>\n",
              "    </tr>\n",
              "  </thead>\n",
              "  <tbody>\n",
              "    <tr>\n",
              "      <th>0</th>\n",
              "      <td>went lunch found burger meh obvious focus burg...</td>\n",
              "      <td>0</td>\n",
              "    </tr>\n",
              "    <tr>\n",
              "      <th>1</th>\n",
              "      <td>needed new tires wifes car special order next ...</td>\n",
              "      <td>2</td>\n",
              "    </tr>\n",
              "    <tr>\n",
              "      <th>2</th>\n",
              "      <td>jim woltman works goleta honda 5 stars knowled...</td>\n",
              "      <td>2</td>\n",
              "    </tr>\n",
              "    <tr>\n",
              "      <th>3</th>\n",
              "      <td>times get shrimp theyve got nice selection dif...</td>\n",
              "      <td>2</td>\n",
              "    </tr>\n",
              "    <tr>\n",
              "      <th>4</th>\n",
              "      <td>one fantastic place eat whether hungry need go...</td>\n",
              "      <td>2</td>\n",
              "    </tr>\n",
              "  </tbody>\n",
              "</table>\n",
              "</div>\n",
              "    <div class=\"colab-df-buttons\">\n",
              "\n",
              "  <div class=\"colab-df-container\">\n",
              "    <button class=\"colab-df-convert\" onclick=\"convertToInteractive('df-e32745d9-d91b-470d-bd15-ab00eaef6d7c')\"\n",
              "            title=\"Convert this dataframe to an interactive table.\"\n",
              "            style=\"display:none;\">\n",
              "\n",
              "  <svg xmlns=\"http://www.w3.org/2000/svg\" height=\"24px\" viewBox=\"0 -960 960 960\">\n",
              "    <path d=\"M120-120v-720h720v720H120Zm60-500h600v-160H180v160Zm220 220h160v-160H400v160Zm0 220h160v-160H400v160ZM180-400h160v-160H180v160Zm440 0h160v-160H620v160ZM180-180h160v-160H180v160Zm440 0h160v-160H620v160Z\"/>\n",
              "  </svg>\n",
              "    </button>\n",
              "\n",
              "  <style>\n",
              "    .colab-df-container {\n",
              "      display:flex;\n",
              "      gap: 12px;\n",
              "    }\n",
              "\n",
              "    .colab-df-convert {\n",
              "      background-color: #E8F0FE;\n",
              "      border: none;\n",
              "      border-radius: 50%;\n",
              "      cursor: pointer;\n",
              "      display: none;\n",
              "      fill: #1967D2;\n",
              "      height: 32px;\n",
              "      padding: 0 0 0 0;\n",
              "      width: 32px;\n",
              "    }\n",
              "\n",
              "    .colab-df-convert:hover {\n",
              "      background-color: #E2EBFA;\n",
              "      box-shadow: 0px 1px 2px rgba(60, 64, 67, 0.3), 0px 1px 3px 1px rgba(60, 64, 67, 0.15);\n",
              "      fill: #174EA6;\n",
              "    }\n",
              "\n",
              "    .colab-df-buttons div {\n",
              "      margin-bottom: 4px;\n",
              "    }\n",
              "\n",
              "    [theme=dark] .colab-df-convert {\n",
              "      background-color: #3B4455;\n",
              "      fill: #D2E3FC;\n",
              "    }\n",
              "\n",
              "    [theme=dark] .colab-df-convert:hover {\n",
              "      background-color: #434B5C;\n",
              "      box-shadow: 0px 1px 3px 1px rgba(0, 0, 0, 0.15);\n",
              "      filter: drop-shadow(0px 1px 2px rgba(0, 0, 0, 0.3));\n",
              "      fill: #FFFFFF;\n",
              "    }\n",
              "  </style>\n",
              "\n",
              "    <script>\n",
              "      const buttonEl =\n",
              "        document.querySelector('#df-e32745d9-d91b-470d-bd15-ab00eaef6d7c button.colab-df-convert');\n",
              "      buttonEl.style.display =\n",
              "        google.colab.kernel.accessAllowed ? 'block' : 'none';\n",
              "\n",
              "      async function convertToInteractive(key) {\n",
              "        const element = document.querySelector('#df-e32745d9-d91b-470d-bd15-ab00eaef6d7c');\n",
              "        const dataTable =\n",
              "          await google.colab.kernel.invokeFunction('convertToInteractive',\n",
              "                                                    [key], {});\n",
              "        if (!dataTable) return;\n",
              "\n",
              "        const docLinkHtml = 'Like what you see? Visit the ' +\n",
              "          '<a target=\"_blank\" href=https://colab.research.google.com/notebooks/data_table.ipynb>data table notebook</a>'\n",
              "          + ' to learn more about interactive tables.';\n",
              "        element.innerHTML = '';\n",
              "        dataTable['output_type'] = 'display_data';\n",
              "        await google.colab.output.renderOutput(dataTable, element);\n",
              "        const docLink = document.createElement('div');\n",
              "        docLink.innerHTML = docLinkHtml;\n",
              "        element.appendChild(docLink);\n",
              "      }\n",
              "    </script>\n",
              "  </div>\n",
              "\n",
              "\n",
              "<div id=\"df-6d7e2245-374c-4bfc-acac-40bc16b6af88\">\n",
              "  <button class=\"colab-df-quickchart\" onclick=\"quickchart('df-6d7e2245-374c-4bfc-acac-40bc16b6af88')\"\n",
              "            title=\"Suggest charts\"\n",
              "            style=\"display:none;\">\n",
              "\n",
              "<svg xmlns=\"http://www.w3.org/2000/svg\" height=\"24px\"viewBox=\"0 0 24 24\"\n",
              "     width=\"24px\">\n",
              "    <g>\n",
              "        <path d=\"M19 3H5c-1.1 0-2 .9-2 2v14c0 1.1.9 2 2 2h14c1.1 0 2-.9 2-2V5c0-1.1-.9-2-2-2zM9 17H7v-7h2v7zm4 0h-2V7h2v10zm4 0h-2v-4h2v4z\"/>\n",
              "    </g>\n",
              "</svg>\n",
              "  </button>\n",
              "\n",
              "<style>\n",
              "  .colab-df-quickchart {\n",
              "      --bg-color: #E8F0FE;\n",
              "      --fill-color: #1967D2;\n",
              "      --hover-bg-color: #E2EBFA;\n",
              "      --hover-fill-color: #174EA6;\n",
              "      --disabled-fill-color: #AAA;\n",
              "      --disabled-bg-color: #DDD;\n",
              "  }\n",
              "\n",
              "  [theme=dark] .colab-df-quickchart {\n",
              "      --bg-color: #3B4455;\n",
              "      --fill-color: #D2E3FC;\n",
              "      --hover-bg-color: #434B5C;\n",
              "      --hover-fill-color: #FFFFFF;\n",
              "      --disabled-bg-color: #3B4455;\n",
              "      --disabled-fill-color: #666;\n",
              "  }\n",
              "\n",
              "  .colab-df-quickchart {\n",
              "    background-color: var(--bg-color);\n",
              "    border: none;\n",
              "    border-radius: 50%;\n",
              "    cursor: pointer;\n",
              "    display: none;\n",
              "    fill: var(--fill-color);\n",
              "    height: 32px;\n",
              "    padding: 0;\n",
              "    width: 32px;\n",
              "  }\n",
              "\n",
              "  .colab-df-quickchart:hover {\n",
              "    background-color: var(--hover-bg-color);\n",
              "    box-shadow: 0 1px 2px rgba(60, 64, 67, 0.3), 0 1px 3px 1px rgba(60, 64, 67, 0.15);\n",
              "    fill: var(--button-hover-fill-color);\n",
              "  }\n",
              "\n",
              "  .colab-df-quickchart-complete:disabled,\n",
              "  .colab-df-quickchart-complete:disabled:hover {\n",
              "    background-color: var(--disabled-bg-color);\n",
              "    fill: var(--disabled-fill-color);\n",
              "    box-shadow: none;\n",
              "  }\n",
              "\n",
              "  .colab-df-spinner {\n",
              "    border: 2px solid var(--fill-color);\n",
              "    border-color: transparent;\n",
              "    border-bottom-color: var(--fill-color);\n",
              "    animation:\n",
              "      spin 1s steps(1) infinite;\n",
              "  }\n",
              "\n",
              "  @keyframes spin {\n",
              "    0% {\n",
              "      border-color: transparent;\n",
              "      border-bottom-color: var(--fill-color);\n",
              "      border-left-color: var(--fill-color);\n",
              "    }\n",
              "    20% {\n",
              "      border-color: transparent;\n",
              "      border-left-color: var(--fill-color);\n",
              "      border-top-color: var(--fill-color);\n",
              "    }\n",
              "    30% {\n",
              "      border-color: transparent;\n",
              "      border-left-color: var(--fill-color);\n",
              "      border-top-color: var(--fill-color);\n",
              "      border-right-color: var(--fill-color);\n",
              "    }\n",
              "    40% {\n",
              "      border-color: transparent;\n",
              "      border-right-color: var(--fill-color);\n",
              "      border-top-color: var(--fill-color);\n",
              "    }\n",
              "    60% {\n",
              "      border-color: transparent;\n",
              "      border-right-color: var(--fill-color);\n",
              "    }\n",
              "    80% {\n",
              "      border-color: transparent;\n",
              "      border-right-color: var(--fill-color);\n",
              "      border-bottom-color: var(--fill-color);\n",
              "    }\n",
              "    90% {\n",
              "      border-color: transparent;\n",
              "      border-bottom-color: var(--fill-color);\n",
              "    }\n",
              "  }\n",
              "</style>\n",
              "\n",
              "  <script>\n",
              "    async function quickchart(key) {\n",
              "      const quickchartButtonEl =\n",
              "        document.querySelector('#' + key + ' button');\n",
              "      quickchartButtonEl.disabled = true;  // To prevent multiple clicks.\n",
              "      quickchartButtonEl.classList.add('colab-df-spinner');\n",
              "      try {\n",
              "        const charts = await google.colab.kernel.invokeFunction(\n",
              "            'suggestCharts', [key], {});\n",
              "      } catch (error) {\n",
              "        console.error('Error during call to suggestCharts:', error);\n",
              "      }\n",
              "      quickchartButtonEl.classList.remove('colab-df-spinner');\n",
              "      quickchartButtonEl.classList.add('colab-df-quickchart-complete');\n",
              "    }\n",
              "    (() => {\n",
              "      let quickchartButtonEl =\n",
              "        document.querySelector('#df-6d7e2245-374c-4bfc-acac-40bc16b6af88 button');\n",
              "      quickchartButtonEl.style.display =\n",
              "        google.colab.kernel.accessAllowed ? 'block' : 'none';\n",
              "    })();\n",
              "  </script>\n",
              "</div>\n",
              "\n",
              "    </div>\n",
              "  </div>\n"
            ]
          },
          "metadata": {},
          "execution_count": 4
        }
      ]
    },
    {
      "cell_type": "code",
      "source": [
        "from tensorflow.keras.preprocessing.text import Tokenizer\n",
        "from tensorflow.keras.preprocessing.sequence import pad_sequences\n",
        "\n",
        "# Set the fixed length for reviews\n",
        "fixed_length = 150\n",
        "\n",
        "# Initialize and fit the tokenizer on the training data\n",
        "tokenizer = Tokenizer()\n",
        "tokenizer.fit_on_texts(train_data['text'])\n",
        "\n",
        "# Convert the text to sequences of integers\n",
        "train_sequences = tokenizer.texts_to_sequences(train_data['text'])\n",
        "test_sequences = tokenizer.texts_to_sequences(test_data['text'])\n",
        "\n",
        "# Pad the sequences so that they all have the same length\n",
        "train_padded = pad_sequences(train_sequences, maxlen=fixed_length, padding='post', truncating='post')\n",
        "test_padded = pad_sequences(test_sequences, maxlen=fixed_length, padding='post', truncating='post')\n",
        "\n",
        "# Checking the shape of the padded sequences\n",
        "train_padded.shape, test_padded.shape\n"
      ],
      "metadata": {
        "colab": {
          "base_uri": "https://localhost:8080/"
        },
        "id": "dE3Qw2ZJTpPS",
        "outputId": "739cbb67-0d36-48ee-f035-3f11013a77ba"
      },
      "execution_count": 5,
      "outputs": [
        {
          "output_type": "execute_result",
          "data": {
            "text/plain": [
              "((174757, 150), (13980, 150))"
            ]
          },
          "metadata": {},
          "execution_count": 5
        }
      ]
    },
    {
      "cell_type": "code",
      "source": [
        "from sklearn.model_selection import train_test_split\n",
        "# Splitting the data\n",
        "train_texts, val_texts, train_labels, val_labels = train_test_split(\n",
        "    train_data['text'], train_data['sentiment'], test_size=0.2, random_state=42)"
      ],
      "metadata": {
        "id": "WUtJ6eoCT7b3"
      },
      "execution_count": 39,
      "outputs": []
    },
    {
      "cell_type": "code",
      "source": [
        "from tensorflow.keras.utils import to_categorical\n",
        "\n",
        "test_labels = to_categorical(test_data['sentiment'], num_classes=3)\n",
        "#test_labels = to_categorical(test_labels, num_classes=3)\n",
        "train_labels = to_categorical(train_labels, num_classes=3)\n",
        "val_labels = to_categorical(val_labels, num_classes=3)\n",
        "\n",
        "train_texts.shape, val_texts.shape, train_labels.shape, val_labels.shape, test_labels.shape"
      ],
      "metadata": {
        "colab": {
          "base_uri": "https://localhost:8080/"
        },
        "id": "P1VXDcnOf8u_",
        "outputId": "892e60ff-c670-4f6f-9195-657cd6ed6671"
      },
      "execution_count": 40,
      "outputs": [
        {
          "output_type": "execute_result",
          "data": {
            "text/plain": [
              "((139805,), (34952,), (139805, 3), (34952, 3), (13980, 3))"
            ]
          },
          "metadata": {},
          "execution_count": 40
        }
      ]
    },
    {
      "cell_type": "code",
      "source": [
        "import tensorflow as tf\n",
        "from transformers import BertTokenizer, TFBertForSequenceClassification, TFBertModel\n",
        "from tensorflow.keras.optimizers import SGD\n",
        "from tensorflow.keras.callbacks import ModelCheckpoint\n",
        "\n",
        "# Load pre-trained BERT model and tokenizer\n",
        "bert_model = TFBertModel.from_pretrained('bert-base-uncased', num_labels=3)\n",
        "tokenizer = BertTokenizer.from_pretrained('bert-base-uncased')\n",
        "\n",
        "train_encodings = tokenizer(train_texts.tolist(), truncation=True, padding=True, max_length=150)\n",
        "val_encodings = tokenizer(val_texts.tolist(), truncation=True, padding=True, max_length=150)\n",
        "test_encodings = tokenizer(test_data['text'].tolist(), truncation=True, padding=True, max_length=150)\n",
        "\n",
        "train_dataset = tf.data.Dataset.from_tensor_slices((\n",
        "    dict(train_encodings),\n",
        "    train_labels\n",
        ")).batch(32)\n",
        "\n",
        "val_dataset = tf.data.Dataset.from_tensor_slices((\n",
        "    dict(val_encodings),\n",
        "    val_labels\n",
        ")).batch(32)\n",
        "\n",
        "test_dataset = tf.data.Dataset.from_tensor_slices((\n",
        "    dict(test_encodings),\n",
        "    test_data['sentiment'].values\n",
        ")).batch(32)"
      ],
      "metadata": {
        "colab": {
          "base_uri": "https://localhost:8080/"
        },
        "id": "cn4ejs-eWTGZ",
        "outputId": "36385e16-9cb0-4ea7-c1ec-5af6a0bd42c0"
      },
      "execution_count": 33,
      "outputs": [
        {
          "output_type": "stream",
          "name": "stderr",
          "text": [
            "Some weights of the PyTorch model were not used when initializing the TF 2.0 model TFBertModel: ['cls.predictions.transform.dense.weight', 'cls.predictions.transform.LayerNorm.weight', 'cls.predictions.transform.dense.bias', 'cls.predictions.transform.LayerNorm.bias', 'cls.seq_relationship.weight', 'cls.predictions.bias', 'cls.seq_relationship.bias']\n",
            "- This IS expected if you are initializing TFBertModel from a PyTorch model trained on another task or with another architecture (e.g. initializing a TFBertForSequenceClassification model from a BertForPreTraining model).\n",
            "- This IS NOT expected if you are initializing TFBertModel from a PyTorch model that you expect to be exactly identical (e.g. initializing a TFBertForSequenceClassification model from a BertForSequenceClassification model).\n",
            "All the weights of TFBertModel were initialized from the PyTorch model.\n",
            "If your task is similar to the task the model of the checkpoint was trained on, you can already use TFBertModel for predictions without further training.\n"
          ]
        }
      ]
    },
    {
      "cell_type": "code",
      "source": [
        "# Define a learning rate schedule\n",
        "lr_schedule = tf.keras.optimizers.schedules.ExponentialDecay(\n",
        "    initial_learning_rate=5e-5,\n",
        "    decay_steps=10000,\n",
        "    decay_rate=0.9)\n",
        "\n",
        "# Build a custom model\n",
        "input_ids = tf.keras.layers.Input(shape=(150,), dtype='int32', name='input_ids')\n",
        "attention_mask = tf.keras.layers.Input(shape=(150,), dtype='int32', name='attention_mask')\n",
        "\n",
        "# Extract hidden states from BERT\n",
        "hidden_states = bert_model(input_ids, attention_mask=attention_mask)[0]\n",
        "\n",
        "# Custom layers on top of BERT\n",
        "x = tf.keras.layers.GlobalAveragePooling1D()(hidden_states)  # Average pooling\n",
        "x = tf.keras.layers.Dense(64, activation='relu')(x)  # Dense layer\n",
        "x = tf.keras.layers.Dropout(0.5)(x)  # Dropout for regularization\n",
        "output = tf.keras.layers.Dense(3, activation='softmax')(x)  # Final classification layer\n",
        "\n",
        "# Compile the model\n",
        "model = tf.keras.Model(inputs=[input_ids, attention_mask], outputs=output)\n",
        "optimizer = tf.keras.optimizers.SGD(learning_rate=lr_schedule)\n",
        "model.compile(optimizer=optimizer, loss='categorical_crossentropy', metrics=['accuracy'])\n",
        "\n",
        "checkpoint_cb = ModelCheckpoint(\"bert_yelp_reviews.h5\", save_best_only=True)\n",
        "history = model.fit(train_dataset, epochs=3, validation_data=val_dataset, callbacks=[checkpoint_cb])\n",
        "plt.plot(history.history['accuracy'], label='accuracy')\n",
        "plt.plot(history.history['val_accuracy'], label = 'val_accuracy')\n",
        "plt.xlabel('Epoch')\n",
        "plt.ylabel('Accuracy')\n",
        "plt.ylim([0, 1])\n",
        "plt.legend(loc='lower right')"
      ],
      "metadata": {
        "colab": {
          "base_uri": "https://localhost:8080/",
          "height": 735
        },
        "id": "6OgEqrl7YRWB",
        "outputId": "dfdcf3a0-8083-4e78-b16d-103c3009db83"
      },
      "execution_count": 23,
      "outputs": [
        {
          "output_type": "stream",
          "name": "stdout",
          "text": [
            "Epoch 1/3\n"
          ]
        },
        {
          "output_type": "stream",
          "name": "stderr",
          "text": [
            "/usr/local/lib/python3.10/dist-packages/keras/src/engine/functional.py:642: UserWarning: Input dict contained keys ['token_type_ids'] which did not match any model input. They will be ignored by the model.\n",
            "  inputs = self._flatten_to_reference_inputs(inputs)\n",
            "WARNING:tensorflow:Gradients do not exist for variables ['tf_bert_model_3/bert/pooler/dense/kernel:0', 'tf_bert_model_3/bert/pooler/dense/bias:0'] when minimizing the loss. If you're using `model.compile()`, did you forget to provide a `loss` argument?\n",
            "WARNING:tensorflow:Gradients do not exist for variables ['tf_bert_model_3/bert/pooler/dense/kernel:0', 'tf_bert_model_3/bert/pooler/dense/bias:0'] when minimizing the loss. If you're using `model.compile()`, did you forget to provide a `loss` argument?\n",
            "WARNING:tensorflow:Gradients do not exist for variables ['tf_bert_model_3/bert/pooler/dense/kernel:0', 'tf_bert_model_3/bert/pooler/dense/bias:0'] when minimizing the loss. If you're using `model.compile()`, did you forget to provide a `loss` argument?\n",
            "WARNING:tensorflow:Gradients do not exist for variables ['tf_bert_model_3/bert/pooler/dense/kernel:0', 'tf_bert_model_3/bert/pooler/dense/bias:0'] when minimizing the loss. If you're using `model.compile()`, did you forget to provide a `loss` argument?\n"
          ]
        },
        {
          "output_type": "stream",
          "name": "stdout",
          "text": [
            "4369/4369 [==============================] - ETA: 0s - loss: 0.8097 - accuracy: 0.6761"
          ]
        },
        {
          "output_type": "stream",
          "name": "stderr",
          "text": [
            "/usr/local/lib/python3.10/dist-packages/keras/src/engine/training.py:3079: UserWarning: You are saving your model as an HDF5 file via `model.save()`. This file format is considered legacy. We recommend using instead the native Keras format, e.g. `model.save('my_model.keras')`.\n",
            "  saving_api.save_model(\n"
          ]
        },
        {
          "output_type": "stream",
          "name": "stdout",
          "text": [
            "\b\b\b\b\b\b\b\b\b\b\b\b\b\b\b\b\b\b\b\b\b\b\b\b\b\b\b\b\b\b\b\b\b\b\b\b\b\b\b\b\b\b\b\b\b\b\b\b\b\b\b\b\b\b\b\b\b\b\b\b\b\b\b\b\b\b\b\b\b\b\b\b\b\b\b\b\b\b\b\b\b\b\b\b\b\b\r4369/4369 [==============================] - 1512s 339ms/step - loss: 0.8097 - accuracy: 0.6761 - val_loss: 0.6841 - val_accuracy: 0.7511\n",
            "Epoch 2/3\n",
            "4369/4369 [==============================] - 1475s 338ms/step - loss: 0.6494 - accuracy: 0.7731 - val_loss: 0.5198 - val_accuracy: 0.8198\n",
            "Epoch 3/3\n",
            "4369/4369 [==============================] - 1475s 338ms/step - loss: 0.5370 - accuracy: 0.8200 - val_loss: 0.4599 - val_accuracy: 0.8333\n"
          ]
        },
        {
          "output_type": "execute_result",
          "data": {
            "text/plain": [
              "<matplotlib.legend.Legend at 0x7faf0c240520>"
            ]
          },
          "metadata": {},
          "execution_count": 23
        },
        {
          "output_type": "display_data",
          "data": {
            "text/plain": [
              "<Figure size 640x480 with 1 Axes>"
            ],
            "image/png": "[encoded data removed]"
          },
          "metadata": {}
        }
      ]
    },
    {
      "cell_type": "markdown",
      "source": [
        "## Sentiment Analysis Model Training\n",
        "\n",
        "### Learning Rate Schedule\n",
        "A learning rate schedule was defined using an exponential decay, which starts at an initial learning rate of `5e-5` and decays every `10,000` steps with a rate of `0.9`. This approach helps in controlling the learning speed of the model, allowing for larger updates to the weights at the beginning, and smaller updates as training progresses.\n",
        "\n",
        "### Model Architecture\n",
        "The model is built on top of the pre-trained BERT (`bert-base-uncased`) model with the following custom layers:\n",
        "- **Global Average Pooling 1D**: Condenses the output tensor of the BERT model by taking the average across the sequence dimension, reducing the tensor from three dimensions to two.\n",
        "- **Dense Layer**: A dense layer with 64 units and ReLU activation function is used to introduce non-linearity and aid in learning complex patterns.\n",
        "- **Dropout**: A dropout layer with a rate of `0.5` is included to prevent overfitting by randomly setting input units to `0` at each step during training time, which helps to prevent overfitting.\n",
        "- **Output Layer**: The final layer is a dense layer with 3 units and a softmax activation function to output the probabilities of the three sentiment classes (negative, neutral, positive).\n",
        "\n",
        "### Model Compilation\n",
        "The model is compiled with the SGD optimizer, which is configured with the previously defined learning rate schedule, and uses `categorical_crossentropy` as the loss function due to the nature of the classification problem. The accuracy metric is monitored during training.\n",
        "\n",
        "### Model Checkpointing\n",
        "A `ModelCheckpoint` callback is used to save the best model based on validation accuracy, ensuring that the best performing model is retained.\n",
        "\n",
        "### Training\n",
        "The model is trained for 3 epochs on the `train_dataset`, with the `val_dataset` used for validation. The training process is visualized by plotting the training and validation accuracy over epochs, demonstrating an increase in accuracy and a decrease in loss over time, indicating that the model is learning effectively.\n",
        "\n"
      ],
      "metadata": {
        "id": "fD9YfA5H-qaL"
      }
    },
    {
      "cell_type": "code",
      "source": [
        "test_dataset = tf.data.Dataset.from_tensor_slices((\n",
        "    dict(test_encodings),\n",
        "    test_labels\n",
        ")).batch(32)\n"
      ],
      "metadata": {
        "id": "IXlv3Y_35n49"
      },
      "execution_count": 41,
      "outputs": []
    },
    {
      "cell_type": "code",
      "source": [
        "from transformers import TFBertForSequenceClassification\n",
        "\n",
        "# Custom object needed for keras to understand the BERT model\n",
        "custom_objects = {\n",
        "    'TFBertForSequenceClassification': TFBertForSequenceClassification,\n",
        "    'TFBertModel': TFBertModel\n",
        "}\n",
        "\n",
        "\n",
        "# Load the saved model with custom object\n",
        "best_model = tf.keras.models.load_model(\"bert_yelp_reviews.h5\", custom_objects=custom_objects)\n",
        "\n",
        "# Evaluate the model on the test set\n",
        "test_loss, test_accuracy = best_model.evaluate(test_dataset)\n",
        "print(f\"Test Loss: {test_loss}\")\n",
        "print(f\"Test Accuracy: {test_accuracy}\")\n"
      ],
      "metadata": {
        "colab": {
          "base_uri": "https://localhost:8080/"
        },
        "id": "cegzcDbq08oj",
        "outputId": "4df4dc51-a47f-4d90-bcef-93464a5ec2bf"
      },
      "execution_count": 42,
      "outputs": [
        {
          "output_type": "stream",
          "name": "stdout",
          "text": [
            "437/437 [==============================] - 54s 116ms/step - loss: 0.4640 - accuracy: 0.8306\n",
            "Test Loss: 0.4639679491519928\n",
            "Test Accuracy: 0.8306151628494263\n"
          ]
        }
      ]
    },
    {
      "cell_type": "markdown",
      "source": [
        "## Test Set Performance Analysis\n",
        "\n",
        "After fine-tuning the pre-trained BERT model (`bert-base-uncased`) with custom layers and training on a sentiment analysis task using the Yelp Reviews dataset, the model's performance was evaluated on an unseen test set. The following results were obtained:\n",
        "\n",
        "- **Test Loss**: The model achieved a test loss of `0.4640`, which is relatively low and suggests that the model has learned to generalize well from the training data.\n",
        "- **Test Accuracy**: An accuracy of `83.06%` on the test set indicates that the model is able to correctly predict the sentiment of a review with high reliability.\n",
        "\n",
        "This performance is a strong indication that the model has not only learned the patterns present in the training data but is also able to effectively apply this knowledge to new, unseen data. The relatively close performance metrics between the validation set during training and the test set suggest that the model has not overfit to the training data and confirms its generalization capability.\n",
        "\n",
        "### Conclusion\n",
        "\n",
        "The fine-tuned BERT model demonstrates promising results, achieving over `83%` accuracy in classifying the sentiment of Yelp reviews. The test loss and accuracy metrics indicate that the model can serve as a robust tool for sentiment analysis tasks in similar contexts.\n"
      ],
      "metadata": {
        "id": "yD461LAW_6S7"
      }
    },
    {
      "cell_type": "code",
      "source": [],
      "metadata": {
        "id": "tJRMeOYE_7Ez"
      },
      "execution_count": null,
      "outputs": []
    }
  ]
}